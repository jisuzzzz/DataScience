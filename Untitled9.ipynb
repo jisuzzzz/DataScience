{
  "nbformat": 4,
  "nbformat_minor": 0,
  "metadata": {
    "colab": {
      "provenance": []
    },
    "kernelspec": {
      "name": "python3",
      "display_name": "Python 3"
    },
    "language_info": {
      "name": "python"
    }
  },
  "cells": [
    {
      "cell_type": "code",
      "execution_count": null,
      "metadata": {
        "id": "7VPpco-_nqMw",
        "colab": {
          "base_uri": "https://localhost:8080/"
        },
        "outputId": "893f4469-3c76-4d0e-885b-ab052cb2b2a3"
      },
      "outputs": [
        {
          "output_type": "stream",
          "name": "stdout",
          "text": [
            "--2023-11-13 06:28:31--  https://files.grouplens.org/datasets/movielens/ml-100k.zip\n",
            "Resolving files.grouplens.org (files.grouplens.org)... 128.101.65.152\n",
            "Connecting to files.grouplens.org (files.grouplens.org)|128.101.65.152|:443... connected.\n",
            "HTTP request sent, awaiting response... 200 OK\n",
            "Length: 4924029 (4.7M) [application/zip]\n",
            "Saving to: ‘ml-100k.zip’\n",
            "\n",
            "ml-100k.zip         100%[===================>]   4.70M  15.3MB/s    in 0.3s    \n",
            "\n",
            "2023-11-13 06:28:32 (15.3 MB/s) - ‘ml-100k.zip’ saved [4924029/4924029]\n",
            "\n"
          ]
        }
      ],
      "source": [
        "!wget https://files.grouplens.org/datasets/movielens/ml-100k.zip"
      ]
    },
    {
      "cell_type": "code",
      "source": [
        "!unzip ml-100k.zip"
      ],
      "metadata": {
        "colab": {
          "base_uri": "https://localhost:8080/"
        },
        "id": "PfNhhwecuM1F",
        "outputId": "01ba99c9-2b87-4f7f-dbe2-a4a2abe6249c"
      },
      "execution_count": null,
      "outputs": [
        {
          "output_type": "stream",
          "name": "stdout",
          "text": [
            "Archive:  ml-100k.zip\n",
            "   creating: ml-100k/\n",
            "  inflating: ml-100k/allbut.pl       \n",
            "  inflating: ml-100k/mku.sh          \n",
            "  inflating: ml-100k/README          \n",
            "  inflating: ml-100k/u.data          \n",
            "  inflating: ml-100k/u.genre         \n",
            "  inflating: ml-100k/u.info          \n",
            "  inflating: ml-100k/u.item          \n",
            "  inflating: ml-100k/u.occupation    \n",
            "  inflating: ml-100k/u.user          \n",
            "  inflating: ml-100k/u1.base         \n",
            "  inflating: ml-100k/u1.test         \n",
            "  inflating: ml-100k/u2.base         \n",
            "  inflating: ml-100k/u2.test         \n",
            "  inflating: ml-100k/u3.base         \n",
            "  inflating: ml-100k/u3.test         \n",
            "  inflating: ml-100k/u4.base         \n",
            "  inflating: ml-100k/u4.test         \n",
            "  inflating: ml-100k/u5.base         \n",
            "  inflating: ml-100k/u5.test         \n",
            "  inflating: ml-100k/ua.base         \n",
            "  inflating: ml-100k/ua.test         \n",
            "  inflating: ml-100k/ub.base         \n",
            "  inflating: ml-100k/ub.test         \n"
          ]
        }
      ]
    },
    {
      "cell_type": "code",
      "source": [
        "import torch\n",
        "import torch.nn as nn\n",
        "import pandas as pd\n",
        "import torch.nn.functional as F\n",
        "import matplotlib.pyplot as plt"
      ],
      "metadata": {
        "id": "UIx4HjcQuXfb"
      },
      "execution_count": 1,
      "outputs": []
    },
    {
      "cell_type": "code",
      "source": [
        "train = pd.read_csv(\"ml-100k/ua.base\",\n",
        "                    sep=\"\\t\", names=['user', 'movie', 'rating', 'timestamp'])\n",
        "test = pd.read_csv(\"ml-100k/ua.test\",\n",
        "                   sep=\"\\t\", names=['user', 'movie', 'rating', 'timestamp'])"
      ],
      "metadata": {
        "id": "o44Ur5unup8-"
      },
      "execution_count": 2,
      "outputs": []
    },
    {
      "cell_type": "code",
      "source": [
        "items = torch.LongTensor(train['movie'])\n",
        "users = torch.LongTensor(train['user'])\n",
        "ratings = torch.FloatTensor(train['rating'])\n",
        "\n",
        "items_test = torch.LongTensor(test['movie'])\n",
        "users_test = torch.LongTensor(test['user'])\n",
        "ratings_test = torch.FloatTensor(test['rating'])"
      ],
      "metadata": {
        "id": "OsZmpyvPuyko"
      },
      "execution_count": 3,
      "outputs": []
    },
    {
      "cell_type": "code",
      "source": [
        "rank = 10\n",
        "num_items = max(items) + 1\n",
        "num_users = max(users) + 1\n",
        "P = torch.randn(num_items, rank, requires_grad=True)\n",
        "Q = torch.randn(num_users, rank, requires_grad=True)\n",
        "\n",
        "X = []\n",
        "Y = []\n",
        "\n",
        "mse = nn.MSELoss()\n",
        "\n",
        "from torch.optim.optimizer import Optimizer\n",
        "optim = torch.optim.Adam([P, Q], lr=0.1)\n",
        "\n",
        "for epoch in range(1001):\n",
        "  h = (P[items] * Q[users]).sum(dim=1)\n",
        "  cost = mse(h, ratings)\n",
        "\n",
        "  optim.zero_grad()\n",
        "  cost.backward()\n",
        "  optim.step()\n",
        "\n",
        "  with torch.no_grad():\n",
        "    X.append(epoch)\n",
        "    Y.append(cost.item())\n",
        "    if epoch%100 == 0:\n",
        "      print(\"epoch: {}, cost: {:.6f}\".format(epoch, cost.item()))\n",
        "plt.ylabel(\"MSE\")\n",
        "plt.xlabel(\"Epoch\")\n",
        "plt.plot(X,Y, c=\"blue\", label=\"Training MSE\")\n",
        "plt.legend()\n",
        "plt.show()"
      ],
      "metadata": {
        "id": "22fPn8ekvjw0",
        "colab": {
          "base_uri": "https://localhost:8080/",
          "height": 649
        },
        "outputId": "04201e29-c998-423c-b740-fe40ffd0886b"
      },
      "execution_count": 6,
      "outputs": [
        {
          "output_type": "stream",
          "name": "stdout",
          "text": [
            "epoch: 0, cost: 23.942183\n",
            "epoch: 100, cost: 0.577799\n",
            "epoch: 200, cost: 0.494641\n",
            "epoch: 300, cost: 0.469886\n",
            "epoch: 400, cost: 0.459152\n",
            "epoch: 500, cost: 0.453299\n",
            "epoch: 600, cost: 0.449519\n",
            "epoch: 700, cost: 0.446865\n",
            "epoch: 800, cost: 0.445004\n",
            "epoch: 900, cost: 0.443565\n",
            "epoch: 1000, cost: 0.442400\n"
          ]
        },
        {
          "output_type": "display_data",
          "data": {
            "text/plain": [
              "<Figure size 640x480 with 1 Axes>"
            ],
            "image/png": "[encoded data removed]"
          },
          "metadata": {}
        }
      ]
    },
    {
      "cell_type": "code",
      "source": [
        "rank = 10\n",
        "num_items = max(items) + 1\n",
        "num_users = max(users) + 1\n",
        "P = torch.randn(num_items, rank, requires_grad=True)\n",
        "Q = torch.randn(num_users, rank, requires_grad=True)\n",
        "\n",
        "X = []\n",
        "Y = []\n",
        "Y_test = []\n",
        "\n",
        "mse = nn.MSELoss()\n",
        "\n",
        "from torch.optim.optimizer import Optimizer\n",
        "optim = torch.optim.Adam([P, Q], lr=0.1)\n",
        "\n",
        "for epoch in range(1001):\n",
        "  h = (P[items] * Q[users]).sum(dim=1)\n",
        "  cost = mse(h, ratings)\n",
        "\n",
        "  optim.zero_grad()\n",
        "  cost.backward()\n",
        "  optim.step()\n",
        "\n",
        "  with torch.no_grad():\n",
        "    X.append(epoch)\n",
        "    Y.append(cost.item())\n",
        "    h_test = (P[items_test] * Q[users_test]).sum(dim=1)\n",
        "    cost_test = mse(h_test, ratings_test)\n",
        "    Y_test.append(cost_test.item())\n",
        "    if epoch%100 == 0:\n",
        "      print(\"epoch: {}, cost: {:.6f}\".format(epoch, cost.item()))\n",
        "plt.plot(X,Y,label=\"train_MSE\")\n",
        "plt.plot(X,Y_test,label=\"test_MSE\")\n",
        "plt.legend()\n",
        "plt.show()"
      ],
      "metadata": {
        "colab": {
          "base_uri": "https://localhost:8080/",
          "height": 626
        },
        "id": "2SpM4a3e0nuY",
        "outputId": "9deb1766-3e99-4472-cbec-b1c96e086232"
      },
      "execution_count": 7,
      "outputs": [
        {
          "output_type": "stream",
          "name": "stdout",
          "text": [
            "epoch: 0, cost: 23.789660\n",
            "epoch: 100, cost: 0.561795\n",
            "epoch: 200, cost: 0.495546\n",
            "epoch: 300, cost: 0.472709\n",
            "epoch: 400, cost: 0.461616\n",
            "epoch: 500, cost: 0.455163\n",
            "epoch: 600, cost: 0.450837\n",
            "epoch: 700, cost: 0.447751\n",
            "epoch: 800, cost: 0.445574\n",
            "epoch: 900, cost: 0.443994\n",
            "epoch: 1000, cost: 0.442718\n"
          ]
        },
        {
          "output_type": "display_data",
          "data": {
            "text/plain": [
              "<Figure size 640x480 with 1 Axes>"
            ],
            "image/png": "[encoded data removed]"
          },
          "metadata": {}
        }
      ]
    },
    {
      "cell_type": "code",
      "source": [
        "lambda1 = 0.1\n",
        "lambda2 = 0.1\n",
        "\n",
        "rank = 10\n",
        "num_items = max(items) + 1\n",
        "num_users = max(users) + 1\n",
        "P = torch.randn(num_items, rank, requires_grad=True)\n",
        "Q = torch.randn(num_users, rank, requires_grad=True)\n",
        "\n",
        "X = []\n",
        "Y = []\n",
        "Y_test = []\n",
        "\n",
        "mse = nn.MSELoss()\n",
        "\n",
        "from torch.optim.optimizer import Optimizer\n",
        "optim = torch.optim.Adam([P, Q], lr=0.1)\n",
        "\n",
        "for epoch in range(1001):\n",
        "  h = (P[items] * Q[users]).sum(dim=1)\n",
        "  cost = mse(h, ratings)\n",
        "  cost_reg = cost + lambda1 * (P**2).mean() + lambda2 * (Q**2).mean()\n",
        "\n",
        "  optim.zero_grad()\n",
        "  cost_reg.backward()\n",
        "  optim.step()\n",
        "\n",
        "  with torch.no_grad():\n",
        "    X.append(epoch)\n",
        "    Y.append(cost.item())\n",
        "    h_test = (P[items_test] * Q[users_test]).sum(dim=1)\n",
        "    cost_test = mse(h_test, ratings_test)\n",
        "    Y_test.append(cost_test.item())\n",
        "    if epoch%100 == 0:\n",
        "      print(\"epoch: {}, cost: {:.6f}, cost_test: {:.6f}\".format(epoch, cost.item(), cost_test.item()))\n",
        "plt.plot(X,Y,label=\"train_MSE\")\n",
        "plt.plot(X,Y_test,label=\"test_MSE\")\n",
        "plt.legend()\n",
        "plt.show()"
      ],
      "metadata": {
        "id": "kUJOlaFY20Yz",
        "colab": {
          "base_uri": "https://localhost:8080/",
          "height": 626
        },
        "outputId": "ccf746af-9593-43ff-eef6-3745ad77062e"
      },
      "execution_count": 8,
      "outputs": [
        {
          "output_type": "stream",
          "name": "stdout",
          "text": [
            "epoch: 0, cost: 23.518806, cost_test: 21.722269\n",
            "epoch: 100, cost: 0.555533, cost_test: 1.103354\n",
            "epoch: 200, cost: 0.491594, cost_test: 1.125863\n",
            "epoch: 300, cost: 0.473514, cost_test: 1.135374\n",
            "epoch: 400, cost: 0.466682, cost_test: 1.142604\n",
            "epoch: 500, cost: 0.463171, cost_test: 1.144936\n",
            "epoch: 600, cost: 0.460485, cost_test: 1.149892\n",
            "epoch: 700, cost: 0.458688, cost_test: 1.162090\n",
            "epoch: 800, cost: 0.457728, cost_test: 1.171443\n",
            "epoch: 900, cost: 0.457219, cost_test: 1.176069\n",
            "epoch: 1000, cost: 0.456816, cost_test: 1.177005\n"
          ]
        },
        {
          "output_type": "display_data",
          "data": {
            "text/plain": [
              "<Figure size 640x480 with 1 Axes>"
            ],
            "image/png": "[encoded data removed]"
          },
          "metadata": {}
        }
      ]
    },
    {
      "cell_type": "code",
      "source": [
        "lambda1 = 0.2\n",
        "lambda2 = 0.2\n",
        "lambda3 = 0.2\n",
        "lambda4 = 0.2\n",
        "\n",
        "rank = 10\n",
        "num_items = max(items) + 1\n",
        "num_users = max(users) + 1\n",
        "\n",
        "mean = ratings.mean()\n",
        "\n",
        "P = torch.randn(num_items, rank, requires_grad=True)\n",
        "Q = torch.randn(num_users, rank, requires_grad=True)\n",
        "bias_user = torch.randn(num_users, requires_grad=True)\n",
        "bias_item = torch.randn(num_items, requires_grad=True)\n",
        "\n",
        "\n",
        "from torch.optim.optimizer import Optimizer\n",
        "optim = torch.optim.Adam([P, Q, bias_user, bias_item], lr=0.1)\n",
        "\n",
        "X = []\n",
        "Y = []\n",
        "Y_test = []\n",
        "\n",
        "mse = nn.MSELoss()\n",
        "\n",
        "\n",
        "for epoch in range(1001):\n",
        "  h = (P[items] * Q[users]).sum(dim=1) + mean + bias_item[items] + bias_user[users]\n",
        "  cost = mse(h, ratings)\n",
        "  cost_reg = cost + lambda1 * (P**2).mean() + lambda2 * (Q**2).mean() + \\\n",
        "            lambda3 * (bias_item**2).mean() + lambda4 * (bias_user**2).mean()\n",
        "\n",
        "  optim.zero_grad()\n",
        "  cost_reg.backward()\n",
        "  optim.step()\n",
        "\n",
        "  with torch.no_grad():\n",
        "    X.append(epoch)\n",
        "    Y.append(cost.item())\n",
        "    h_test = (P[items_test] * Q[users_test]).sum(dim=1) + mean + bias_item[items_test] + bias_user[users_test]\n",
        "    cost_test = mse(h_test, ratings_test)\n",
        "    Y_test.append(cost_test.item())\n",
        "    if epoch%100 == 0:\n",
        "      print(\"epoch: {}, cost: {:.6f}, cost_test: {:.6f}\".format(epoch, cost.item(), cost_test.item()))\n",
        "plt.plot(X,Y,label=\"train_MSE\")\n",
        "plt.plot(X,Y_test,label=\"test_MSE\")\n",
        "plt.legend()\n",
        "plt.show()"
      ],
      "metadata": {
        "colab": {
          "base_uri": "https://localhost:8080/",
          "height": 626
        },
        "id": "Ap2vBpunf3xO",
        "outputId": "f00f6cdf-b82c-493f-888d-e841568e6187"
      },
      "execution_count": 11,
      "outputs": [
        {
          "output_type": "stream",
          "name": "stdout",
          "text": [
            "epoch: 0, cost: 13.151739, cost_test: 10.964682\n",
            "epoch: 100, cost: 0.516077, cost_test: 1.074531\n",
            "epoch: 200, cost: 0.472811, cost_test: 1.059258\n",
            "epoch: 300, cost: 0.463029, cost_test: 1.048862\n",
            "epoch: 400, cost: 0.460168, cost_test: 1.053024\n",
            "epoch: 500, cost: 0.458928, cost_test: 1.055399\n",
            "epoch: 600, cost: 0.458441, cost_test: 1.059581\n",
            "epoch: 700, cost: 0.458128, cost_test: 1.061822\n",
            "epoch: 800, cost: 0.457701, cost_test: 1.062425\n",
            "epoch: 900, cost: 0.457324, cost_test: 1.065061\n",
            "epoch: 1000, cost: 0.457139, cost_test: 1.067459\n"
          ]
        },
        {
          "output_type": "display_data",
          "data": {
            "text/plain": [
              "<Figure size 640x480 with 1 Axes>"
            ],
            "image/png": "[encoded data removed]"
          },
          "metadata": {}
        }
      ]
    }
  ]
}