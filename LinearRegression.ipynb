{
  "nbformat": 4,
  "nbformat_minor": 0,
  "metadata": {
    "colab": {
      "provenance": []
    },
    "kernelspec": {
      "name": "python3",
      "display_name": "Python 3"
    },
    "language_info": {
      "name": "python"
    }
  },
  "cells": [
    {
      "cell_type": "code",
      "execution_count": 1,
      "metadata": {
        "id": "8IELbZqefK1S"
      },
      "outputs": [],
      "source": [
        "import torch"
      ]
    },
    {
      "cell_type": "code",
      "source": [
        "x = torch.tensor([[1,2,3,], [4,5,6], [7,8,9]])\n",
        "y = torch.FloatTensor([[1,2,3], [4,5,6], [7,8,9]])\n",
        "print(\"x =\", x)\n",
        "print(\"y =\", y)"
      ],
      "metadata": {
        "colab": {
          "base_uri": "https://localhost:8080/"
        },
        "id": "Jvp9pvBAgQGD",
        "outputId": "63252fb8-07c7-4af2-cdf3-33d4efd30e47"
      },
      "execution_count": 2,
      "outputs": [
        {
          "output_type": "stream",
          "name": "stdout",
          "text": [
            "x = tensor([[1, 2, 3],\n",
            "        [4, 5, 6],\n",
            "        [7, 8, 9]])\n",
            "y = tensor([[1., 2., 3.],\n",
            "        [4., 5., 6.],\n",
            "        [7., 8., 9.]])\n"
          ]
        }
      ]
    },
    {
      "cell_type": "code",
      "source": [
        "print(\"Size:\", x.size())\n",
        "print(\"Shape:\", x.size())\n",
        "print(\"차원(랭크):\", x.ndimension())"
      ],
      "metadata": {
        "colab": {
          "base_uri": "https://localhost:8080/"
        },
        "id": "OG6HJ810hSYi",
        "outputId": "bb9d46b9-f32f-4366-b406-0a9420dc5bfb"
      },
      "execution_count": 3,
      "outputs": [
        {
          "output_type": "stream",
          "name": "stdout",
          "text": [
            "Size: torch.Size([3, 3])\n",
            "Shape: torch.Size([3, 3])\n",
            "차원(랭크): 2\n"
          ]
        }
      ]
    },
    {
      "cell_type": "code",
      "source": [
        "x0 = torch.unsqueeze(x,0)\n",
        "x1 = torch.unsqueeze(x,1)\n",
        "x2 = torch.unsqueeze(x,2)\n",
        "print(\"x0.shape:\", x0.shape)\n",
        "print(\"x1.shape:\", x1.shape)\n",
        "print(\"x2.shape:\", x2.shape)\n",
        "print(\"x0 =\", x0)\n",
        "print(\"x1 =\", x1)\n",
        "print(\"x2 =\", x2)"
      ],
      "metadata": {
        "id": "3WHhiVwliW2M",
        "colab": {
          "base_uri": "https://localhost:8080/"
        },
        "outputId": "64db7c63-fecb-4da5-c874-1373d9e4368a"
      },
      "execution_count": 4,
      "outputs": [
        {
          "output_type": "stream",
          "name": "stdout",
          "text": [
            "x0.shape: torch.Size([1, 3, 3])\n",
            "x1.shape: torch.Size([3, 1, 3])\n",
            "x2.shape: torch.Size([3, 3, 1])\n",
            "x0 = tensor([[[1, 2, 3],\n",
            "         [4, 5, 6],\n",
            "         [7, 8, 9]]])\n",
            "x1 = tensor([[[1, 2, 3]],\n",
            "\n",
            "        [[4, 5, 6]],\n",
            "\n",
            "        [[7, 8, 9]]])\n",
            "x2 = tensor([[[1],\n",
            "         [2],\n",
            "         [3]],\n",
            "\n",
            "        [[4],\n",
            "         [5],\n",
            "         [6]],\n",
            "\n",
            "        [[7],\n",
            "         [8],\n",
            "         [9]]])\n"
          ]
        }
      ]
    },
    {
      "cell_type": "code",
      "source": [
        "x3 = torch.squeeze(torch.squeeze(x0))\n",
        "print(\"x3 =\", x3)\n",
        "print(\"x3.shape =\", x3.shape)"
      ],
      "metadata": {
        "colab": {
          "base_uri": "https://localhost:8080/"
        },
        "id": "5isky0wWja71",
        "outputId": "69e36e15-304f-4d5e-e0ba-d2225ffb4df2"
      },
      "execution_count": 5,
      "outputs": [
        {
          "output_type": "stream",
          "name": "stdout",
          "text": [
            "x3 = tensor([[1, 2, 3],\n",
            "        [4, 5, 6],\n",
            "        [7, 8, 9]])\n",
            "x3.shape = torch.Size([3, 3])\n"
          ]
        }
      ]
    },
    {
      "cell_type": "code",
      "source": [
        "x4 = x.view(9)\n",
        "x5 = x.view(1,3,3)\n",
        "print(\"x4 =\", x4)\n",
        "print(\"x5 =\", x5)"
      ],
      "metadata": {
        "colab": {
          "base_uri": "https://localhost:8080/"
        },
        "id": "DLqXGwl_SOcY",
        "outputId": "4f4c6bc5-baf7-45ee-d4b0-69372713b049"
      },
      "execution_count": 6,
      "outputs": [
        {
          "output_type": "stream",
          "name": "stdout",
          "text": [
            "x4 = tensor([1, 2, 3, 4, 5, 6, 7, 8, 9])\n",
            "x5 = tensor([[[1, 2, 3],\n",
            "         [4, 5, 6],\n",
            "         [7, 8, 9]]])\n"
          ]
        }
      ]
    },
    {
      "cell_type": "code",
      "source": [
        "x = torch.FloatTensor([[1,2],[3,4],[5,6]])\n",
        "w = torch.randn(1,2, dtype=torch.float)\n",
        "b = torch.randn(3,1, dtype=torch.float)\n",
        "result = torch.mm(x, torch.t(w))+b\n",
        "print(result)"
      ],
      "metadata": {
        "colab": {
          "base_uri": "https://localhost:8080/"
        },
        "id": "_zJ7q4CeSZEE",
        "outputId": "2d1fd3bb-916d-465f-c71a-ca355c1007cd"
      },
      "execution_count": 7,
      "outputs": [
        {
          "output_type": "stream",
          "name": "stdout",
          "text": [
            "tensor([[-2.8106],\n",
            "        [-4.6912],\n",
            "        [-6.2471]])\n"
          ]
        }
      ]
    },
    {
      "cell_type": "code",
      "source": [
        "w = torch.tensor(1.0, requires_grad=True)\n",
        "a = w*3\n",
        "l = a**2\n",
        "l.backward()\n",
        "print('1을 w로 미분한 값은', w.grad)"
      ],
      "metadata": {
        "colab": {
          "base_uri": "https://localhost:8080/"
        },
        "id": "-_kpRyjmSw1n",
        "outputId": "7fbb4fd5-8abd-4137-c4bd-99607b1a629a"
      },
      "execution_count": 8,
      "outputs": [
        {
          "output_type": "stream",
          "name": "stdout",
          "text": [
            "1을 w로 미분한 값은 tensor(18.)\n"
          ]
        }
      ]
    },
    {
      "cell_type": "code",
      "source": [
        "x_train = torch.FloatTensor([[1,2],[3,2],[3,7],[1,1],[1,0]])\n",
        "y_train = torch.FloatTensor([[4],[8],[23],[1],[-2]])"
      ],
      "metadata": {
        "id": "R5HVLnhuTJKG"
      },
      "execution_count": 9,
      "outputs": []
    },
    {
      "cell_type": "code",
      "source": [
        "W = torch.rand(2,1)\n",
        "b = torch.rand(1,1)\n",
        "lr = 0.01\n",
        "for epoch in range(3001):\n",
        "  W.requires_grad_(True)\n",
        "  b.requires_grad_(True)\n",
        "  h = torch.mm(x_train, W)+b\n",
        "  cost = torch.mean((h-y_train)**2)\n",
        "  cost.backward()\n",
        "  with torch.no_grad():\n",
        "    W = W - lr * W.grad\n",
        "    b = b - lr * b.grad\n",
        "    if epoch % 100 == 0:\n",
        "      print('epoch: {}, cost: {:.6f}, W: {}, b; {}'.format(epoch, cost.item(), W.squeeze(), b))"
      ],
      "metadata": {
        "colab": {
          "base_uri": "https://localhost:8080/"
        },
        "id": "Hooe5J7sTZwD",
        "outputId": "3a462297-cfac-4d25-df09-ae601b6870ff"
      },
      "execution_count": 10,
      "outputs": [
        {
          "output_type": "stream",
          "name": "stdout",
          "text": [
            "epoch: 0, cost: 90.819237, W: tensor([0.6866, 0.7987]), b; tensor([[0.7182]])\n",
            "epoch: 100, cost: 1.818705, W: tensor([0.5326, 3.1561]), b; tensor([[-1.1303]])\n",
            "epoch: 200, cost: 0.889254, W: tensor([0.8271, 3.1999]), b; tensor([[-2.0264]])\n",
            "epoch: 300, cost: 0.456421, W: tensor([1.1455, 3.1533]), b; tensor([[-2.5946]])\n",
            "epoch: 400, cost: 0.234556, W: tensor([1.3859, 3.1110]), b; tensor([[-2.9936]])\n",
            "epoch: 500, cost: 0.120543, W: tensor([1.5596, 3.0797]), b; tensor([[-3.2786]])\n",
            "epoch: 600, cost: 0.061949, W: tensor([1.6842, 3.0572]), b; tensor([[-3.4829]])\n",
            "epoch: 700, cost: 0.031837, W: tensor([1.7736, 3.0410]), b; tensor([[-3.6293]])\n",
            "epoch: 800, cost: 0.016361, W: tensor([1.8377, 3.0294]), b; tensor([[-3.7342]])\n",
            "epoch: 900, cost: 0.008408, W: tensor([1.8837, 3.0211]), b; tensor([[-3.8095]])\n",
            "epoch: 1000, cost: 0.004321, W: tensor([1.9166, 3.0151]), b; tensor([[-3.8634]])\n",
            "epoch: 1100, cost: 0.002221, W: tensor([1.9402, 3.0108]), b; tensor([[-3.9021]])\n",
            "epoch: 1200, cost: 0.001141, W: tensor([1.9571, 3.0078]), b; tensor([[-3.9298]])\n",
            "epoch: 1300, cost: 0.000587, W: tensor([1.9693, 3.0056]), b; tensor([[-3.9497]])\n",
            "epoch: 1400, cost: 0.000301, W: tensor([1.9780, 3.0040]), b; tensor([[-3.9639]])\n",
            "epoch: 1500, cost: 0.000155, W: tensor([1.9842, 3.0029]), b; tensor([[-3.9741]])\n",
            "epoch: 1600, cost: 0.000080, W: tensor([1.9887, 3.0020]), b; tensor([[-3.9815]])\n",
            "epoch: 1700, cost: 0.000041, W: tensor([1.9919, 3.0015]), b; tensor([[-3.9867]])\n",
            "epoch: 1800, cost: 0.000021, W: tensor([1.9942, 3.0011]), b; tensor([[-3.9905]])\n",
            "epoch: 1900, cost: 0.000011, W: tensor([1.9958, 3.0008]), b; tensor([[-3.9932]])\n",
            "epoch: 2000, cost: 0.000006, W: tensor([1.9970, 3.0005]), b; tensor([[-3.9951]])\n",
            "epoch: 2100, cost: 0.000003, W: tensor([1.9979, 3.0004]), b; tensor([[-3.9965]])\n",
            "epoch: 2200, cost: 0.000001, W: tensor([1.9985, 3.0003]), b; tensor([[-3.9975]])\n",
            "epoch: 2300, cost: 0.000001, W: tensor([1.9989, 3.0002]), b; tensor([[-3.9982]])\n",
            "epoch: 2400, cost: 0.000000, W: tensor([1.9992, 3.0001]), b; tensor([[-3.9987]])\n",
            "epoch: 2500, cost: 0.000000, W: tensor([1.9994, 3.0001]), b; tensor([[-3.9991]])\n",
            "epoch: 2600, cost: 0.000000, W: tensor([1.9996, 3.0001]), b; tensor([[-3.9993]])\n",
            "epoch: 2700, cost: 0.000000, W: tensor([1.9997, 3.0001]), b; tensor([[-3.9995]])\n",
            "epoch: 2800, cost: 0.000000, W: tensor([1.9998, 3.0000]), b; tensor([[-3.9997]])\n",
            "epoch: 2900, cost: 0.000000, W: tensor([1.9998, 3.0000]), b; tensor([[-3.9998]])\n",
            "epoch: 3000, cost: 0.000000, W: tensor([1.9999, 3.0000]), b; tensor([[-3.9998]])\n"
          ]
        }
      ]
    },
    {
      "cell_type": "code",
      "source": [
        "x_test = torch.FloatTensor([[5,10]])\n",
        "test_result = torch.mm(x_test, W)+b\n",
        "print(test_result.item())"
      ],
      "metadata": {
        "colab": {
          "base_uri": "https://localhost:8080/"
        },
        "id": "lLYFDyVRU9ry",
        "outputId": "bfc3577b-46b1-44aa-a5f8-c2992c0a83fd"
      },
      "execution_count": 11,
      "outputs": [
        {
          "output_type": "stream",
          "name": "stdout",
          "text": [
            "35.99983215332031\n"
          ]
        }
      ]
    },
    {
      "cell_type": "code",
      "source": [
        "from sklearn.linear_model import LinearRegression\n",
        "x = [[1,2],[3,2],[3,7],[1,1],[1,0]]\n",
        "y = [[4],[8],[23],[1],[-2]]\n",
        "lr = LinearRegression()\n",
        "lr.fit(x,y)\n",
        "print(lr.coef_, lr.intercept_)"
      ],
      "metadata": {
        "colab": {
          "base_uri": "https://localhost:8080/"
        },
        "id": "gMBFMTChWSBI",
        "outputId": "b2d46376-fdaa-462f-fb54-ba0198a3cca1"
      },
      "execution_count": 12,
      "outputs": [
        {
          "output_type": "stream",
          "name": "stdout",
          "text": [
            "[[2. 3.]] [-4.]\n"
          ]
        }
      ]
    },
    {
      "cell_type": "code",
      "source": [
        "print(lr.predict([[5,10]]))"
      ],
      "metadata": {
        "colab": {
          "base_uri": "https://localhost:8080/"
        },
        "id": "SGS811wgWwQA",
        "outputId": "b28b05dc-0949-4515-cedf-ed530e7de6e5"
      },
      "execution_count": 13,
      "outputs": [
        {
          "output_type": "stream",
          "name": "stdout",
          "text": [
            "[[36.]]\n"
          ]
        }
      ]
    },
    {
      "cell_type": "code",
      "source": [
        "from sklearn.linear_model import LinearRegression\n",
        "x = [[1,2],[3,2],[3,7],[1,1],[1,0]]\n",
        "y = [[4],[8],[23],[1],[-2]]\n",
        "\n",
        "lr = LinearRegression()\n",
        "lr.fit(x,y)\n",
        "print(lr.coef_, lr.intercept_)\n",
        "print(lr.predict([[5,10]]))"
      ],
      "metadata": {
        "id": "8cJNRZHXAfq-",
        "colab": {
          "base_uri": "https://localhost:8080/"
        },
        "outputId": "0d4dcdad-fc17-4bb0-dc7c-7676540e614e"
      },
      "execution_count": 14,
      "outputs": [
        {
          "output_type": "stream",
          "name": "stdout",
          "text": [
            "[[2. 3.]] [-4.]\n",
            "[[36.]]\n"
          ]
        }
      ]
    }
  ]
}