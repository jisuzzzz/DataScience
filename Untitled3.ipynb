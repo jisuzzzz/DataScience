{
  "nbformat": 4,
  "nbformat_minor": 0,
  "metadata": {
    "colab": {
      "provenance": []
    },
    "kernelspec": {
      "name": "python3",
      "display_name": "Python 3"
    },
    "language_info": {
      "name": "python"
    }
  },
  "cells": [
    {
      "cell_type": "code",
      "execution_count": 1,
      "metadata": {
        "id": "8IELbZqefK1S"
      },
      "outputs": [],
      "source": [
        "import torch"
      ]
    },
    {
      "cell_type": "code",
      "source": [
        "x = torch.tensor([[1,2,3,], [4,5,6], [7,8,9]])\n",
        "y = torch.FloatTensor([[1,2,3], [4,5,6], [7,8,9]])\n",
        "print(\"x =\", x)\n",
        "print(\"y =\", y)"
      ],
      "metadata": {
        "colab": {
          "base_uri": "https://localhost:8080/"
        },
        "id": "Jvp9pvBAgQGD",
        "outputId": "02a4aba2-a095-452a-a2c5-76e6940f03c9"
      },
      "execution_count": 2,
      "outputs": [
        {
          "output_type": "stream",
          "name": "stdout",
          "text": [
            "x = tensor([[1, 2, 3],\n",
            "        [4, 5, 6],\n",
            "        [7, 8, 9]])\n",
            "y = tensor([[1., 2., 3.],\n",
            "        [4., 5., 6.],\n",
            "        [7., 8., 9.]])\n"
          ]
        }
      ]
    },
    {
      "cell_type": "code",
      "source": [
        "print(\"Size:\", x.size())\n",
        "print(\"Shape:\", x.size())\n",
        "print(\"차원(랭크):\", x.ndimension())"
      ],
      "metadata": {
        "colab": {
          "base_uri": "https://localhost:8080/"
        },
        "id": "OG6HJ810hSYi",
        "outputId": "5108a5fb-bcb4-4e6b-85b0-2d752012b67e"
      },
      "execution_count": 3,
      "outputs": [
        {
          "output_type": "stream",
          "name": "stdout",
          "text": [
            "Size: torch.Size([3, 3])\n",
            "Shape: torch.Size([3, 3])\n",
            "차원(랭크): 2\n"
          ]
        }
      ]
    },
    {
      "cell_type": "code",
      "source": [
        "x0 = torch.unsqueeze(x,0)\n",
        "x1 = torch.unsqueeze(x,1)\n",
        "x2 = torch.unsqueeze(x,2)\n",
        "print(\"x0.shape:\", x0.shape)\n",
        "print(\"x1.shape:\", x1.shape)\n",
        "print(\"x2.shape:\", x2.shape)\n",
        "print(\"x0 =\", x0)\n",
        "print(\"x1 =\", x1)\n",
        "print(\"x2 =\", x2)"
      ],
      "metadata": {
        "id": "3WHhiVwliW2M",
        "colab": {
          "base_uri": "https://localhost:8080/"
        },
        "outputId": "5a7bc053-559c-4658-8c03-d05f5fa08b8e"
      },
      "execution_count": 4,
      "outputs": [
        {
          "output_type": "stream",
          "name": "stdout",
          "text": [
            "x0.shape: torch.Size([1, 3, 3])\n",
            "x1.shape: torch.Size([3, 1, 3])\n",
            "x2.shape: torch.Size([3, 3, 1])\n",
            "x0 = tensor([[[1, 2, 3],\n",
            "         [4, 5, 6],\n",
            "         [7, 8, 9]]])\n",
            "x1 = tensor([[[1, 2, 3]],\n",
            "\n",
            "        [[4, 5, 6]],\n",
            "\n",
            "        [[7, 8, 9]]])\n",
            "x2 = tensor([[[1],\n",
            "         [2],\n",
            "         [3]],\n",
            "\n",
            "        [[4],\n",
            "         [5],\n",
            "         [6]],\n",
            "\n",
            "        [[7],\n",
            "         [8],\n",
            "         [9]]])\n"
          ]
        }
      ]
    },
    {
      "cell_type": "code",
      "source": [
        "x3 = torch.squeeze(torch.squeeze(x0))\n",
        "print(\"x3 =\", x3)\n",
        "print(\"x3.shape =\", x3.shape)"
      ],
      "metadata": {
        "colab": {
          "base_uri": "https://localhost:8080/"
        },
        "id": "5isky0wWja71",
        "outputId": "ea54c2f9-9965-4b1d-c98b-17face3ec7b7"
      },
      "execution_count": 5,
      "outputs": [
        {
          "output_type": "stream",
          "name": "stdout",
          "text": [
            "x3 = tensor([[1, 2, 3],\n",
            "        [4, 5, 6],\n",
            "        [7, 8, 9]])\n",
            "x3.shape = torch.Size([3, 3])\n"
          ]
        }
      ]
    },
    {
      "cell_type": "code",
      "source": [
        "x4 = x.view(9)\n",
        "x5 = x.view(1,3,3)\n",
        "print(\"x4 =\", x4)\n",
        "print(\"x5 =\", x5)"
      ],
      "metadata": {
        "colab": {
          "base_uri": "https://localhost:8080/"
        },
        "id": "DLqXGwl_SOcY",
        "outputId": "275cfeff-50b8-439e-e9dc-73f7aab0e818"
      },
      "execution_count": 6,
      "outputs": [
        {
          "output_type": "stream",
          "name": "stdout",
          "text": [
            "x4 = tensor([1, 2, 3, 4, 5, 6, 7, 8, 9])\n",
            "x5 = tensor([[[1, 2, 3],\n",
            "         [4, 5, 6],\n",
            "         [7, 8, 9]]])\n"
          ]
        }
      ]
    },
    {
      "cell_type": "code",
      "source": [
        "x = torch.FloatTensor([[1,2],[3,4],[5,6]])\n",
        "w = torch.randn(1,2, dtype=torch.float)\n",
        "b = torch.randn(3,1, dtype=torch.float)\n",
        "result = torch.mm(x, torch.t(w))+b\n",
        "print(result)"
      ],
      "metadata": {
        "colab": {
          "base_uri": "https://localhost:8080/"
        },
        "id": "_zJ7q4CeSZEE",
        "outputId": "a543478b-33af-49b1-fcbe-ca4cef7de9b7"
      },
      "execution_count": 7,
      "outputs": [
        {
          "output_type": "stream",
          "name": "stdout",
          "text": [
            "tensor([[1.6152],\n",
            "        [4.1097],\n",
            "        [3.8810]])\n"
          ]
        }
      ]
    },
    {
      "cell_type": "code",
      "source": [
        "w = torch.tensor(1.0, requires_grad=True)\n",
        "a = w*3\n",
        "l = a**2\n",
        "l.backward()\n",
        "print('1을 w로 미분한 값은', w.grad)"
      ],
      "metadata": {
        "colab": {
          "base_uri": "https://localhost:8080/"
        },
        "id": "-_kpRyjmSw1n",
        "outputId": "1e28250b-cd61-4451-b726-a7cd253047dd"
      },
      "execution_count": 8,
      "outputs": [
        {
          "output_type": "stream",
          "name": "stdout",
          "text": [
            "1을 w로 미분한 값은 tensor(18.)\n"
          ]
        }
      ]
    },
    {
      "cell_type": "code",
      "source": [
        "x_train = torch.FloatTensor([[1,2],[3,2],[3,7],[1,1],[1,0]])\n",
        "y_train = torch.FloatTensor([[4],[8],[23],[1],[-2]])"
      ],
      "metadata": {
        "id": "R5HVLnhuTJKG"
      },
      "execution_count": 10,
      "outputs": []
    },
    {
      "cell_type": "code",
      "source": [
        "W = torch.rand(2,1)\n",
        "b = torch.rand(1,1)\n",
        "lr = 0.01\n",
        "for epoch in range(3001):\n",
        "  W.requires_grad_(True)\n",
        "  b.requires_grad_(True)\n",
        "  h = torch.mm(x_train, W)+b\n",
        "  cost = torch.mean((h-y_train)**2)\n",
        "  cost.backward()\n",
        "  with torch.no_grad():\n",
        "    W = W - lr * W.grad\n",
        "    b = b - lr * b.grad\n",
        "    if epoch % 100 == 0:\n",
        "      print('epoch: {}, cost: {:.6f}, W: {}, b; {}'.format(epoch, cost.item(), W.squeeze(), b))"
      ],
      "metadata": {
        "colab": {
          "base_uri": "https://localhost:8080/"
        },
        "id": "Hooe5J7sTZwD",
        "outputId": "8ffc7406-6768-4ed3-91bc-d520b904f49b"
      },
      "execution_count": 12,
      "outputs": [
        {
          "output_type": "stream",
          "name": "stdout",
          "text": [
            "epoch: 0, cost: 74.818893, W: tensor([0.6528, 1.0301]), b; tensor([[0.5647]])\n",
            "epoch: 100, cost: 1.734052, W: tensor([0.5491, 3.1626]), b; tensor([[-1.1979]])\n",
            "epoch: 200, cost: 0.853297, W: tensor([0.8495, 3.1969]), b; tensor([[-2.0675]])\n",
            "epoch: 300, cost: 0.438039, W: tensor([1.1627, 3.1503]), b; tensor([[-2.6233]])\n",
            "epoch: 400, cost: 0.225110, W: tensor([1.3983, 3.1088]), b; tensor([[-3.0141]])\n",
            "epoch: 500, cost: 0.115688, W: tensor([1.5685, 3.0781]), b; tensor([[-3.2933]])\n",
            "epoch: 600, cost: 0.059454, W: tensor([1.6907, 3.0560]), b; tensor([[-3.4934]])\n",
            "epoch: 700, cost: 0.030555, W: tensor([1.7782, 3.0401]), b; tensor([[-3.6368]])\n",
            "epoch: 800, cost: 0.015703, W: tensor([1.8410, 3.0288]), b; tensor([[-3.7396]])\n",
            "epoch: 900, cost: 0.008070, W: tensor([1.8860, 3.0206]), b; tensor([[-3.8134]])\n",
            "epoch: 1000, cost: 0.004147, W: tensor([1.9183, 3.0148]), b; tensor([[-3.8662]])\n",
            "epoch: 1100, cost: 0.002131, W: tensor([1.9414, 3.0106]), b; tensor([[-3.9041]])\n",
            "epoch: 1200, cost: 0.001095, W: tensor([1.9580, 3.0076]), b; tensor([[-3.9312]])\n",
            "epoch: 1300, cost: 0.000563, W: tensor([1.9699, 3.0054]), b; tensor([[-3.9507]])\n",
            "epoch: 1400, cost: 0.000289, W: tensor([1.9784, 3.0039]), b; tensor([[-3.9647]])\n",
            "epoch: 1500, cost: 0.000149, W: tensor([1.9845, 3.0028]), b; tensor([[-3.9747]])\n",
            "epoch: 1600, cost: 0.000076, W: tensor([1.9889, 3.0020]), b; tensor([[-3.9818]])\n",
            "epoch: 1700, cost: 0.000039, W: tensor([1.9920, 3.0014]), b; tensor([[-3.9870]])\n",
            "epoch: 1800, cost: 0.000020, W: tensor([1.9943, 3.0010]), b; tensor([[-3.9907]])\n",
            "epoch: 1900, cost: 0.000010, W: tensor([1.9959, 3.0007]), b; tensor([[-3.9933]])\n",
            "epoch: 2000, cost: 0.000005, W: tensor([1.9971, 3.0005]), b; tensor([[-3.9952]])\n",
            "epoch: 2100, cost: 0.000003, W: tensor([1.9979, 3.0004]), b; tensor([[-3.9966]])\n",
            "epoch: 2200, cost: 0.000001, W: tensor([1.9985, 3.0003]), b; tensor([[-3.9975]])\n",
            "epoch: 2300, cost: 0.000001, W: tensor([1.9989, 3.0002]), b; tensor([[-3.9982]])\n",
            "epoch: 2400, cost: 0.000000, W: tensor([1.9992, 3.0001]), b; tensor([[-3.9987]])\n",
            "epoch: 2500, cost: 0.000000, W: tensor([1.9994, 3.0001]), b; tensor([[-3.9991]])\n",
            "epoch: 2600, cost: 0.000000, W: tensor([1.9996, 3.0001]), b; tensor([[-3.9993]])\n",
            "epoch: 2700, cost: 0.000000, W: tensor([1.9997, 3.0001]), b; tensor([[-3.9995]])\n",
            "epoch: 2800, cost: 0.000000, W: tensor([1.9998, 3.0000]), b; tensor([[-3.9997]])\n",
            "epoch: 2900, cost: 0.000000, W: tensor([1.9999, 3.0000]), b; tensor([[-3.9998]])\n",
            "epoch: 3000, cost: 0.000000, W: tensor([1.9999, 3.0000]), b; tensor([[-3.9998]])\n"
          ]
        }
      ]
    },
    {
      "cell_type": "code",
      "source": [
        "x_test = torch.FloatTensor([[5,10]])\n",
        "test_result = torch.mm(x_test, W)+b\n",
        "print(test_result.item())"
      ],
      "metadata": {
        "colab": {
          "base_uri": "https://localhost:8080/"
        },
        "id": "lLYFDyVRU9ry",
        "outputId": "b17018d2-4325-4081-928b-4fd2fc584d3b"
      },
      "execution_count": 13,
      "outputs": [
        {
          "output_type": "stream",
          "name": "stdout",
          "text": [
            "35.99983596801758\n"
          ]
        }
      ]
    },
    {
      "cell_type": "code",
      "source": [
        "from sklearn.linear_model import LinearRegression\n",
        "x = [[1,2],[3,2],[3,7],[1,1],[1,0]]\n",
        "y = [[4],[8],[23],[1],[-2]]\n",
        "lr = LinearRegression()\n",
        "lr.fit(x,y)\n",
        "print(lr.coef_, lr.intercept_)"
      ],
      "metadata": {
        "colab": {
          "base_uri": "https://localhost:8080/"
        },
        "id": "gMBFMTChWSBI",
        "outputId": "ade55d89-2c99-4ba5-cd5c-41dc1d07d16a"
      },
      "execution_count": 16,
      "outputs": [
        {
          "output_type": "stream",
          "name": "stdout",
          "text": [
            "[[2. 3.]] [-4.]\n"
          ]
        }
      ]
    },
    {
      "cell_type": "code",
      "source": [
        "print(lr.predict([[5,10]]))"
      ],
      "metadata": {
        "colab": {
          "base_uri": "https://localhost:8080/"
        },
        "id": "SGS811wgWwQA",
        "outputId": "351c724e-8dee-4486-efd7-78735c16601e"
      },
      "execution_count": 17,
      "outputs": [
        {
          "output_type": "stream",
          "name": "stdout",
          "text": [
            "[[36.]]\n"
          ]
        }
      ]
    }
  ]
}